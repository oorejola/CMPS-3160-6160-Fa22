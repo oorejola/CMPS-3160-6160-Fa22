{
  "cells": [
    {
      "cell_type": "markdown",
      "metadata": {
        "id": "OgRbAZj42bXE"
      },
      "source": [
        "# Lab 01: Getting Started\n",
        "\n",
        "In this lab, we will walk through configuring Google Colab so that you can download the starter code for each lab, run and edit code, and then save and submit it.\n",
        "\n",
        "Colab is a cloud-based solution that allows you to run Python and Jupyter notebooks from your browser, without having to configure anything on your personal computer. \n",
        "\n",
        "Before continuing with this notebook, please first complete this brief tutorial: [Overview of Colab](https://colab.research.google.com/notebooks/basic_features_overview.ipynb)\n"
      ]
    },
    {
      "cell_type": "markdown",
      "metadata": {
        "id": "vqvARlqY6fn0"
      },
      "source": [
        "<hr>\n",
        "\n",
        "## Command-line\n",
        "\n",
        "Welcome back!\n",
        "\n",
        "What Colab does is create a [virtual machine](https://en.wikipedia.org/wiki/Virtual_machine), which is like a fresh install of an operating system made just for you.\n",
        "\n",
        "This means that in addition to running Python code in this notebook, you can also interact with the command-line as if you were using a terminal to navigate a computer. If you have never used the command-line before, it is worth reading through [this tutorial](https://computers.tutsplus.com/tutorials/navigating-the-terminal-a-gentle-introduction--mac-3855). \n",
        "\n",
        "Notebooks also allow you to run shell commands by preceding the command with a `!`. \n",
        "\n",
        "For example, the command below will list the current working directory where this notebook is running.\n"
      ]
    },
    {
      "cell_type": "code",
      "execution_count": 1,
      "metadata": {
        "colab": {
          "base_uri": "https://localhost:8080/"
        },
        "id": "Zfh7PMlQ16_U",
        "outputId": "4002587d-7dc6-4c3c-ca9e-6bd9d339b1ef"
      },
      "outputs": [
        {
          "output_type": "stream",
          "name": "stdout",
          "text": [
            "/content\n"
          ]
        }
      ],
      "source": [
        "!pwd"
      ]
    },
    {
      "cell_type": "markdown",
      "metadata": {
        "id": "2QY0FG5C7hul"
      },
      "source": [
        "And the following command will list information about the operating system that this notebook is running on. Note that the `cat` command prints the contents of a file. So, this is printing the contents of all files in the `/etc/` folder that end in the word `release,` which is where Linux distributions store OS information."
      ]
    },
    {
      "cell_type": "code",
      "execution_count": 2,
      "metadata": {
        "colab": {
          "base_uri": "https://localhost:8080/"
        },
        "id": "qMwA25g46QmC",
        "outputId": "a8b454e4-1fac-4c20-c6cf-31c940e9d6fb"
      },
      "outputs": [
        {
          "output_type": "stream",
          "name": "stdout",
          "text": [
            "DISTRIB_ID=Ubuntu\n",
            "DISTRIB_RELEASE=18.04\n",
            "DISTRIB_CODENAME=bionic\n",
            "DISTRIB_DESCRIPTION=\"Ubuntu 18.04.6 LTS\"\n",
            "NAME=\"Ubuntu\"\n",
            "VERSION=\"18.04.6 LTS (Bionic Beaver)\"\n",
            "ID=ubuntu\n",
            "ID_LIKE=debian\n",
            "PRETTY_NAME=\"Ubuntu 18.04.6 LTS\"\n",
            "VERSION_ID=\"18.04\"\n",
            "HOME_URL=\"https://www.ubuntu.com/\"\n",
            "SUPPORT_URL=\"https://help.ubuntu.com/\"\n",
            "BUG_REPORT_URL=\"https://bugs.launchpad.net/ubuntu/\"\n",
            "PRIVACY_POLICY_URL=\"https://www.ubuntu.com/legal/terms-and-policies/privacy-policy\"\n",
            "VERSION_CODENAME=bionic\n",
            "UBUNTU_CODENAME=bionic\n"
          ]
        }
      ],
      "source": [
        "!cat /etc/*release "
      ]
    },
    {
      "cell_type": "markdown",
      "metadata": {
        "id": "fpjJEUhQ72km"
      },
      "source": [
        "This tells us that we are running Ubuntu, a Linux distribution, and also says what version we're running.\n"
      ]
    },
    {
      "cell_type": "markdown",
      "metadata": {
        "id": "VIGZicY18Jdi"
      },
      "source": [
        "## Downloading starter code\n",
        "\n",
        "Next, we'll walk through how to download the starter code from the course GitHub repository. The steps are:\n",
        "\n",
        "1. Mount your personal Google drive inside this virtual machine so you can write to your drive from this notebook.\n",
        "2. Change the current working directory to the root folder of your Google drive.\n",
        "3. Clone the repository from GitHub into this folder.\n",
        "\n"
      ]
    },
    {
      "cell_type": "code",
      "execution_count": 4,
      "metadata": {
        "id": "L2SjkbqXHkxO",
        "outputId": "4ee8d610-112e-4e80-9105-8912cd3b4c67",
        "colab": {
          "base_uri": "https://localhost:8080/"
        }
      },
      "outputs": [
        {
          "output_type": "stream",
          "name": "stdout",
          "text": [
            "Mounted at /content/drive\n"
          ]
        }
      ],
      "source": [
        "# Mount our personal google drive. This will pop up a \n",
        "# confirmation screen giving this notebook access to your Google drive.\n",
        "# You will first need a gmail account for this to work.\n",
        "from google.colab import drive\n",
        "drive.mount('/content/drive')"
      ]
    },
    {
      "cell_type": "markdown",
      "metadata": {
        "id": "LCHIXfGS02xa"
      },
      "source": [
        "You should now see the contents of your Google drive by navigating to the folder icon in the left panel. It is viewable at `/content/drive/MyDrive`.\n",
        "\n",
        "To list the contents of a folder, you can use the `ls` command. This should list the contents of the root folder of your Google drive."
      ]
    },
    {
      "cell_type": "code",
      "execution_count": 5,
      "metadata": {
        "id": "0aW9AGXI9GBG",
        "outputId": "d4593d12-9329-433b-c76c-e07822e77bd7",
        "colab": {
          "base_uri": "https://localhost:8080/"
        }
      },
      "outputs": [
        {
          "output_type": "stream",
          "name": "stdout",
          "text": [
            " cmps3160  'Colab Notebooks'  'Copy of Note Jan 22, 2021.pdf'   Oliver_CV.pdf\n"
          ]
        }
      ],
      "source": [
        "!ls /content/drive/MyDrive"
      ]
    },
    {
      "cell_type": "markdown",
      "metadata": {
        "id": "1gg8RMZQ2DM5"
      },
      "source": [
        "To change the current working directory to be the location of your Google drive, we will issue a `cd` command preceded by the % symbol. The difference between ! and % is that % will actually have a persistent effect on the notebook."
      ]
    },
    {
      "cell_type": "code",
      "execution_count": 6,
      "metadata": {
        "colab": {
          "base_uri": "https://localhost:8080/"
        },
        "id": "6KhZtg8jJEln",
        "outputId": "671a8f8b-c5ca-4dee-c1e3-b17b66dc2276"
      },
      "outputs": [
        {
          "output_type": "stream",
          "name": "stdout",
          "text": [
            "/content/drive/My Drive\n"
          ]
        }
      ],
      "source": [
        "%cd /content/drive/My Drive"
      ]
    },
    {
      "cell_type": "code",
      "execution_count": 7,
      "metadata": {
        "colab": {
          "base_uri": "https://localhost:8080/"
        },
        "id": "W-gcPuCT2Xnl",
        "outputId": "51b112c6-ff19-4e3d-8006-261a64756b63"
      },
      "outputs": [
        {
          "output_type": "stream",
          "name": "stdout",
          "text": [
            "/content/drive/My Drive\n"
          ]
        }
      ],
      "source": [
        "!pwd"
      ]
    },
    {
      "cell_type": "markdown",
      "metadata": {
        "id": "NeiZgi1-3Wuh"
      },
      "source": [
        "Our next task is to clone the course repository and store it into our personal Google drive. The course repository is viewable here: <https://github.com/nmattei/cmps3160>.\n",
        "\n",
        "\n",
        "If you have never used GitHub before, git is one of the most widely used version control management systems today, and invaluable when working in a team. GitHub is a web-based hosting service built around git that supports hosting git repositories, user management, etc. There are other similar services, e.g., BitBucket and GitLab.\n",
        "\n",
        "We will use GitHub to distribute the assignments, and other class materials. Our use of git/github for the class will be minimal; however, we encourage you to use it for collaboration for your class project, or for other classes, or for anything because it's great. To learn more about GitHub, see [this tutorial](https://docs.github.com/en/get-started/quickstart/hello-world). Note -- you don't need to do that tutorial to complete this notebook.\n",
        "\n",
        "\n",
        "The main thing we want to do is clone the course files into this Colab virtual machine. To do so, we will issue a `git clone` command. This will copy all the files from the course Github to our drive."
      ]
    },
    {
      "cell_type": "code",
      "execution_count": null,
      "metadata": {
        "id": "YWio-hRe3njP"
      },
      "outputs": [],
      "source": [
        "!git clone https://github.com/nmattei/cmps3160.git"
      ]
    },
    {
      "cell_type": "markdown",
      "metadata": {
        "id": "uP-d2gYjINjc"
      },
      "source": [
        "You should now be able to list the contents of the new folder `/content/drive/My Drive/cmps3160`, which contains all the course code and data."
      ]
    },
    {
      "cell_type": "code",
      "execution_count": 8,
      "metadata": {
        "colab": {
          "base_uri": "https://localhost:8080/"
        },
        "id": "svt_gkyQ35w2",
        "outputId": "6cc97d76-b6be-46f3-b1a2-ee0d037df658"
      },
      "outputs": [
        {
          "output_type": "stream",
          "name": "stdout",
          "text": [
            "404.html      _data\t  Gemfile.lock\tjs\t  _projects\tsyllabus.md\n",
            "CHANGELOG.md  _demos\t  img\t\t_labs\t  README.md\ttags.html\n",
            "_config.yml   Dockerfile  _includes\t_layouts  resources.md\n",
            "css\t      Gemfile\t  index.md\tLICENSE   schedule.md\n"
          ]
        }
      ],
      "source": [
        "!ls cmps3160"
      ]
    },
    {
      "cell_type": "markdown",
      "metadata": {
        "id": "V7Kj7hV1Yu36"
      },
      "source": [
        "Additionally, if you browse your Google drive as you normally would, you should see the new `cmps3160` folder there.\n",
        "\n",
        "<br>\n",
        "\n",
        "\n",
        "Now let's change directories to the cmps3160 folder."
      ]
    },
    {
      "cell_type": "code",
      "execution_count": 9,
      "metadata": {
        "colab": {
          "base_uri": "https://localhost:8080/"
        },
        "id": "EpyqzXTB9cyt",
        "outputId": "324b0284-b71c-4293-d31b-2a865061dc37"
      },
      "outputs": [
        {
          "output_type": "stream",
          "name": "stdout",
          "text": [
            "/content/drive/My Drive/cmps3160\n"
          ]
        }
      ],
      "source": [
        "%cd cmps3160"
      ]
    },
    {
      "cell_type": "markdown",
      "metadata": {
        "id": "V3xODNszYxXh"
      },
      "source": [
        "Before starting work on any of the course assignments, it is a good idea to make sure you have the most up-to-date files from GitHub. For example, if on the extremely rare occasion the instructors make a mistake in the starter code (!!), we may push a change to the code on GitHub.\n",
        "\n",
        "To update your local copy with the latest code, you will use a `git pull` command from any folder within `cmps3160`.\n",
        "\n",
        "Note that this should have no effect right now, since you just cloned the repository moments ago. So, it should just output `Already up to date`."
      ]
    },
    {
      "cell_type": "code",
      "execution_count": 10,
      "metadata": {
        "colab": {
          "base_uri": "https://localhost:8080/"
        },
        "id": "8WtnXHeDBO8o",
        "outputId": "d765a8f7-7a05-4a70-b55b-c8b318ded27e"
      },
      "outputs": [
        {
          "output_type": "stream",
          "name": "stdout",
          "text": [
            "Already up to date.\n"
          ]
        }
      ],
      "source": [
        "!git pull"
      ]
    },
    {
      "cell_type": "markdown",
      "metadata": {
        "id": "_TCBo6Xr4DNi"
      },
      "source": [
        "Next, let's change directory to the `_labs/` folder"
      ]
    },
    {
      "cell_type": "code",
      "execution_count": 13,
      "metadata": {
        "colab": {
          "base_uri": "https://localhost:8080/"
        },
        "id": "xdZO5VW70A4u",
        "outputId": "ccd801a1-3f92-4920-97bd-09bc4f67bc41"
      },
      "outputs": [
        {
          "output_type": "stream",
          "name": "stdout",
          "text": [
            "/content/drive/My Drive/cmps3160/_labs\n",
            "data\tLab01  Lab03  Lab05  Lab07  Lab09  Lab11  old\n",
            "images\tLab02  Lab04  Lab06  Lab08  Lab10  Lab12  README.md\n"
          ]
        }
      ],
      "source": [
        "%cd _labs\n",
        "!ls"
      ]
    },
    {
      "cell_type": "markdown",
      "metadata": {
        "id": "iKYXQYqH4TRM"
      },
      "source": [
        "The `data` folder contains all the data used for the labs."
      ]
    },
    {
      "cell_type": "code",
      "execution_count": null,
      "metadata": {
        "id": "d-NkpimW4jpA"
      },
      "outputs": [],
      "source": [
        "!ls data"
      ]
    },
    {
      "cell_type": "markdown",
      "metadata": {
        "id": "00tmjw-w4eYq"
      },
      "source": [
        "The next lab will work with the file `titanic.csv`, which contains information on passengers of the ill-fated Titanic passenger ship. You can use the command `head` to see the first ten lines of this file."
      ]
    },
    {
      "cell_type": "code",
      "execution_count": 14,
      "metadata": {
        "colab": {
          "base_uri": "https://localhost:8080/"
        },
        "id": "FWaiyCOv0Cw5",
        "outputId": "1351c4ad-f849-4976-e59f-52a3258f55ec"
      },
      "outputs": [
        {
          "output_type": "stream",
          "name": "stdout",
          "text": [
            "﻿pclass,survived,name,sex,age,sibsp,parch,ticket,fare,cabin,embarked,boat,body,home.dest\r\n",
            "1,1,\"Allen, Miss. Elisabeth Walton\",female,29,0,0,24160,211.3375,B5,S,2,,\"St Louis, MO\"\r\n",
            "1,1,\"Allison, Master. Hudson Trevor\",male,0.9167,1,2,113781,151.5500,C22 C26,S,11,,\"Montreal, PQ / Chesterville, ON\"\r\n",
            "1,0,\"Allison, Miss. Helen Loraine\",female,2,1,2,113781,151.5500,C22 C26,S,,,\"Montreal, PQ / Chesterville, ON\"\r\n",
            "1,0,\"Allison, Mr. Hudson Joshua Creighton\",male,30,1,2,113781,151.5500,C22 C26,S,,135,\"Montreal, PQ / Chesterville, ON\"\r\n",
            "1,0,\"Allison, Mrs. Hudson J C (Bessie Waldo Daniels)\",female,25,1,2,113781,151.5500,C22 C26,S,,,\"Montreal, PQ / Chesterville, ON\"\r\n",
            "1,1,\"Anderson, Mr. Harry\",male,48,0,0,19952,26.5500,E12,S,3,,\"New York, NY\"\r\n",
            "1,1,\"Andrews, Miss. Kornelia Theodosia\",female,63,1,0,13502,77.9583,D7,S,10,,\"Hudson, NY\"\r\n",
            "1,0,\"Andrews, Mr. Thomas Jr\",male,39,0,0,112050,0.0000,A36,S,,,\"Belfast, NI\"\r\n",
            "1,1,\"Appleton, Mrs. Edward Dale (Charlotte Lamson)\",female,53,2,0,11769,51.4792,C101,S,D,,\"Bayside, Queens, NY\"\r\n"
          ]
        }
      ],
      "source": [
        "!head data/titanic.csv"
      ]
    },
    {
      "cell_type": "markdown",
      "metadata": {
        "id": "U6-zRO0CDmKi"
      },
      "source": [
        "We can see that this is a comma-separated file, where each row contains information on a ship passenger."
      ]
    },
    {
      "cell_type": "markdown",
      "metadata": {
        "id": "lt7vmxhLDGof"
      },
      "source": [
        "## Pandas\n",
        "\n",
        "Pandas is a Python library that we will be using extensively to store and analyze data. You can find a brief overview of Pandas [here](https://pandas.pydata.org/docs/user_guide/10min.html).\n",
        "\n",
        "The key data structure in Pandas is the [DataFrame](https://pandas.pydata.org/pandas-docs/stable/reference/api/pandas.DataFrame.html), which is conceptually similar to an Excel spreadsheet.\n",
        "\n",
        "Below, we import the `pandas` library and read `titanic.csv` into a new DataFrame object called `df`.\n",
        "\n",
        "We can print the first ten rows of the DataFrame using the `.head()` command."
      ]
    },
    {
      "cell_type": "code",
      "execution_count": 15,
      "metadata": {
        "colab": {
          "base_uri": "https://localhost:8080/",
          "height": 248
        },
        "id": "G6bKHXluQY7J",
        "outputId": "c602daa9-37b0-420d-962d-85d587207a81"
      },
      "outputs": [
        {
          "output_type": "execute_result",
          "data": {
            "text/plain": [
              "   pclass  survived                                             name     sex  \\\n",
              "0       1         1                    Allen, Miss. Elisabeth Walton  female   \n",
              "1       1         1                   Allison, Master. Hudson Trevor    male   \n",
              "2       1         0                     Allison, Miss. Helen Loraine  female   \n",
              "3       1         0             Allison, Mr. Hudson Joshua Creighton    male   \n",
              "4       1         0  Allison, Mrs. Hudson J C (Bessie Waldo Daniels)  female   \n",
              "\n",
              "       age  sibsp  parch  ticket      fare    cabin embarked boat   body  \\\n",
              "0  29.0000      0      0   24160  211.3375       B5        S    2    NaN   \n",
              "1   0.9167      1      2  113781  151.5500  C22 C26        S   11    NaN   \n",
              "2   2.0000      1      2  113781  151.5500  C22 C26        S  NaN    NaN   \n",
              "3  30.0000      1      2  113781  151.5500  C22 C26        S  NaN  135.0   \n",
              "4  25.0000      1      2  113781  151.5500  C22 C26        S  NaN    NaN   \n",
              "\n",
              "                         home.dest  \n",
              "0                     St Louis, MO  \n",
              "1  Montreal, PQ / Chesterville, ON  \n",
              "2  Montreal, PQ / Chesterville, ON  \n",
              "3  Montreal, PQ / Chesterville, ON  \n",
              "4  Montreal, PQ / Chesterville, ON  "
            ],
            "text/html": [
              "\n",
              "  <div id=\"df-6b49076b-8ddc-46f3-8db7-a08e5603ebba\">\n",
              "    <div class=\"colab-df-container\">\n",
              "      <div>\n",
              "<style scoped>\n",
              "    .dataframe tbody tr th:only-of-type {\n",
              "        vertical-align: middle;\n",
              "    }\n",
              "\n",
              "    .dataframe tbody tr th {\n",
              "        vertical-align: top;\n",
              "    }\n",
              "\n",
              "    .dataframe thead th {\n",
              "        text-align: right;\n",
              "    }\n",
              "</style>\n",
              "<table border=\"1\" class=\"dataframe\">\n",
              "  <thead>\n",
              "    <tr style=\"text-align: right;\">\n",
              "      <th></th>\n",
              "      <th>pclass</th>\n",
              "      <th>survived</th>\n",
              "      <th>name</th>\n",
              "      <th>sex</th>\n",
              "      <th>age</th>\n",
              "      <th>sibsp</th>\n",
              "      <th>parch</th>\n",
              "      <th>ticket</th>\n",
              "      <th>fare</th>\n",
              "      <th>cabin</th>\n",
              "      <th>embarked</th>\n",
              "      <th>boat</th>\n",
              "      <th>body</th>\n",
              "      <th>home.dest</th>\n",
              "    </tr>\n",
              "  </thead>\n",
              "  <tbody>\n",
              "    <tr>\n",
              "      <th>0</th>\n",
              "      <td>1</td>\n",
              "      <td>1</td>\n",
              "      <td>Allen, Miss. Elisabeth Walton</td>\n",
              "      <td>female</td>\n",
              "      <td>29.0000</td>\n",
              "      <td>0</td>\n",
              "      <td>0</td>\n",
              "      <td>24160</td>\n",
              "      <td>211.3375</td>\n",
              "      <td>B5</td>\n",
              "      <td>S</td>\n",
              "      <td>2</td>\n",
              "      <td>NaN</td>\n",
              "      <td>St Louis, MO</td>\n",
              "    </tr>\n",
              "    <tr>\n",
              "      <th>1</th>\n",
              "      <td>1</td>\n",
              "      <td>1</td>\n",
              "      <td>Allison, Master. Hudson Trevor</td>\n",
              "      <td>male</td>\n",
              "      <td>0.9167</td>\n",
              "      <td>1</td>\n",
              "      <td>2</td>\n",
              "      <td>113781</td>\n",
              "      <td>151.5500</td>\n",
              "      <td>C22 C26</td>\n",
              "      <td>S</td>\n",
              "      <td>11</td>\n",
              "      <td>NaN</td>\n",
              "      <td>Montreal, PQ / Chesterville, ON</td>\n",
              "    </tr>\n",
              "    <tr>\n",
              "      <th>2</th>\n",
              "      <td>1</td>\n",
              "      <td>0</td>\n",
              "      <td>Allison, Miss. Helen Loraine</td>\n",
              "      <td>female</td>\n",
              "      <td>2.0000</td>\n",
              "      <td>1</td>\n",
              "      <td>2</td>\n",
              "      <td>113781</td>\n",
              "      <td>151.5500</td>\n",
              "      <td>C22 C26</td>\n",
              "      <td>S</td>\n",
              "      <td>NaN</td>\n",
              "      <td>NaN</td>\n",
              "      <td>Montreal, PQ / Chesterville, ON</td>\n",
              "    </tr>\n",
              "    <tr>\n",
              "      <th>3</th>\n",
              "      <td>1</td>\n",
              "      <td>0</td>\n",
              "      <td>Allison, Mr. Hudson Joshua Creighton</td>\n",
              "      <td>male</td>\n",
              "      <td>30.0000</td>\n",
              "      <td>1</td>\n",
              "      <td>2</td>\n",
              "      <td>113781</td>\n",
              "      <td>151.5500</td>\n",
              "      <td>C22 C26</td>\n",
              "      <td>S</td>\n",
              "      <td>NaN</td>\n",
              "      <td>135.0</td>\n",
              "      <td>Montreal, PQ / Chesterville, ON</td>\n",
              "    </tr>\n",
              "    <tr>\n",
              "      <th>4</th>\n",
              "      <td>1</td>\n",
              "      <td>0</td>\n",
              "      <td>Allison, Mrs. Hudson J C (Bessie Waldo Daniels)</td>\n",
              "      <td>female</td>\n",
              "      <td>25.0000</td>\n",
              "      <td>1</td>\n",
              "      <td>2</td>\n",
              "      <td>113781</td>\n",
              "      <td>151.5500</td>\n",
              "      <td>C22 C26</td>\n",
              "      <td>S</td>\n",
              "      <td>NaN</td>\n",
              "      <td>NaN</td>\n",
              "      <td>Montreal, PQ / Chesterville, ON</td>\n",
              "    </tr>\n",
              "  </tbody>\n",
              "</table>\n",
              "</div>\n",
              "      <button class=\"colab-df-convert\" onclick=\"convertToInteractive('df-6b49076b-8ddc-46f3-8db7-a08e5603ebba')\"\n",
              "              title=\"Convert this dataframe to an interactive table.\"\n",
              "              style=\"display:none;\">\n",
              "        \n",
              "  <svg xmlns=\"http://www.w3.org/2000/svg\" height=\"24px\"viewBox=\"0 0 24 24\"\n",
              "       width=\"24px\">\n",
              "    <path d=\"M0 0h24v24H0V0z\" fill=\"none\"/>\n",
              "    <path d=\"M18.56 5.44l.94 2.06.94-2.06 2.06-.94-2.06-.94-.94-2.06-.94 2.06-2.06.94zm-11 1L8.5 8.5l.94-2.06 2.06-.94-2.06-.94L8.5 2.5l-.94 2.06-2.06.94zm10 10l.94 2.06.94-2.06 2.06-.94-2.06-.94-.94-2.06-.94 2.06-2.06.94z\"/><path d=\"M17.41 7.96l-1.37-1.37c-.4-.4-.92-.59-1.43-.59-.52 0-1.04.2-1.43.59L10.3 9.45l-7.72 7.72c-.78.78-.78 2.05 0 2.83L4 21.41c.39.39.9.59 1.41.59.51 0 1.02-.2 1.41-.59l7.78-7.78 2.81-2.81c.8-.78.8-2.07 0-2.86zM5.41 20L4 18.59l7.72-7.72 1.47 1.35L5.41 20z\"/>\n",
              "  </svg>\n",
              "      </button>\n",
              "      \n",
              "  <style>\n",
              "    .colab-df-container {\n",
              "      display:flex;\n",
              "      flex-wrap:wrap;\n",
              "      gap: 12px;\n",
              "    }\n",
              "\n",
              "    .colab-df-convert {\n",
              "      background-color: #E8F0FE;\n",
              "      border: none;\n",
              "      border-radius: 50%;\n",
              "      cursor: pointer;\n",
              "      display: none;\n",
              "      fill: #1967D2;\n",
              "      height: 32px;\n",
              "      padding: 0 0 0 0;\n",
              "      width: 32px;\n",
              "    }\n",
              "\n",
              "    .colab-df-convert:hover {\n",
              "      background-color: #E2EBFA;\n",
              "      box-shadow: 0px 1px 2px rgba(60, 64, 67, 0.3), 0px 1px 3px 1px rgba(60, 64, 67, 0.15);\n",
              "      fill: #174EA6;\n",
              "    }\n",
              "\n",
              "    [theme=dark] .colab-df-convert {\n",
              "      background-color: #3B4455;\n",
              "      fill: #D2E3FC;\n",
              "    }\n",
              "\n",
              "    [theme=dark] .colab-df-convert:hover {\n",
              "      background-color: #434B5C;\n",
              "      box-shadow: 0px 1px 3px 1px rgba(0, 0, 0, 0.15);\n",
              "      filter: drop-shadow(0px 1px 2px rgba(0, 0, 0, 0.3));\n",
              "      fill: #FFFFFF;\n",
              "    }\n",
              "  </style>\n",
              "\n",
              "      <script>\n",
              "        const buttonEl =\n",
              "          document.querySelector('#df-6b49076b-8ddc-46f3-8db7-a08e5603ebba button.colab-df-convert');\n",
              "        buttonEl.style.display =\n",
              "          google.colab.kernel.accessAllowed ? 'block' : 'none';\n",
              "\n",
              "        async function convertToInteractive(key) {\n",
              "          const element = document.querySelector('#df-6b49076b-8ddc-46f3-8db7-a08e5603ebba');\n",
              "          const dataTable =\n",
              "            await google.colab.kernel.invokeFunction('convertToInteractive',\n",
              "                                                     [key], {});\n",
              "          if (!dataTable) return;\n",
              "\n",
              "          const docLinkHtml = 'Like what you see? Visit the ' +\n",
              "            '<a target=\"_blank\" href=https://colab.research.google.com/notebooks/data_table.ipynb>data table notebook</a>'\n",
              "            + ' to learn more about interactive tables.';\n",
              "          element.innerHTML = '';\n",
              "          dataTable['output_type'] = 'display_data';\n",
              "          await google.colab.output.renderOutput(dataTable, element);\n",
              "          const docLink = document.createElement('div');\n",
              "          docLink.innerHTML = docLinkHtml;\n",
              "          element.appendChild(docLink);\n",
              "        }\n",
              "      </script>\n",
              "    </div>\n",
              "  </div>\n",
              "  "
            ]
          },
          "metadata": {},
          "execution_count": 15
        }
      ],
      "source": [
        "import pandas as pd\n",
        "df = pd.read_csv('data/titanic.csv')\n",
        "df.head()"
      ]
    },
    {
      "cell_type": "code",
      "execution_count": 16,
      "metadata": {
        "colab": {
          "base_uri": "https://localhost:8080/"
        },
        "id": "n48pVTmMCPF5",
        "outputId": "38746380-407e-4afb-83a4-9e67ba8d2d18"
      },
      "outputs": [
        {
          "output_type": "execute_result",
          "data": {
            "text/plain": [
              "1309"
            ]
          },
          "metadata": {},
          "execution_count": 16
        }
      ],
      "source": [
        "# How many rows are there?\n",
        "len(df)"
      ]
    },
    {
      "cell_type": "markdown",
      "metadata": {
        "id": "nvJeLkUhTweD"
      },
      "source": [
        "In the next labs, will work with DataFrames in more detail. For now, please complete the short exercises below and submit your notebook to Canvas,"
      ]
    },
    {
      "cell_type": "markdown",
      "metadata": {
        "id": "xpV26Ov8Hmes"
      },
      "source": [
        "## Exercises\n",
        "\n",
        "**1. Change the current working directory to the folder in `cmps3160/_demos/data/`.**"
      ]
    },
    {
      "cell_type": "code",
      "execution_count": 57,
      "metadata": {
        "id": "vu2Xo2CbIveU",
        "outputId": "246d0238-3c2c-4eca-a71c-01abf4e76d8c",
        "colab": {
          "base_uri": "https://localhost:8080/"
        }
      },
      "outputs": [
        {
          "output_type": "stream",
          "name": "stdout",
          "text": [
            "/content/drive/MyDrive/cmps3160/_demos/data\n"
          ]
        }
      ],
      "source": [
        "%cd /content/drive/MyDrive/cmps3160/_demos/data/"
      ]
    },
    {
      "cell_type": "markdown",
      "metadata": {
        "id": "K696Nd0vJcgw"
      },
      "source": [
        "Expected output: \n",
        "\n",
        "```\n",
        "/content/drive/MyDrive/cmps3160/_demos/data\n",
        "```"
      ]
    },
    {
      "cell_type": "markdown",
      "metadata": {
        "id": "eYygrdVGJShy"
      },
      "source": [
        "**2. List the contents of this directory.**"
      ]
    },
    {
      "cell_type": "code",
      "execution_count": 30,
      "metadata": {
        "id": "taIsgHBcJU4F",
        "outputId": "b5ec4769-38b2-4767-8dc2-70e55ce15861",
        "colab": {
          "base_uri": "https://localhost:8080/"
        }
      },
      "outputs": [
        {
          "output_type": "stream",
          "name": "stdout",
          "text": [
            "adult.csv      boundry.png  nba_salaries.csv  review_polarity.zip\n",
            "billboard.csv  iris.csv     nba_stats.csv     titanic.csv\n",
            "bodyfat.csv    iris.png     religon.csv\n"
          ]
        }
      ],
      "source": [
        "!ls"
      ]
    },
    {
      "cell_type": "markdown",
      "metadata": {
        "id": "Z4yfDGI-JiLy"
      },
      "source": [
        "Expected output:\n",
        "\n",
        "```\n",
        "adult.csv      boundry.png  nba_salaries.csv  review_polarity.zip\n",
        "billboard.csv  iris.csv     nba_stats.csv     titanic.csv\n",
        "bodyfat.csv    iris.png     religon.csv\n",
        "```"
      ]
    },
    {
      "cell_type": "markdown",
      "metadata": {
        "id": "rORN2pB6K9Op"
      },
      "source": [
        "**3. Oh look, there's another `titanic.csv` file in here. Read it into a new DataFrame called `df2` and print the first row.**"
      ]
    },
    {
      "cell_type": "code",
      "execution_count": 33,
      "metadata": {
        "id": "wLL7sfzHHorb",
        "outputId": "e3f16dd5-a1f5-4e6f-f036-08a003705f4c",
        "colab": {
          "base_uri": "https://localhost:8080/",
          "height": 80
        }
      },
      "outputs": [
        {
          "output_type": "execute_result",
          "data": {
            "text/plain": [
              "   pclass  survived                           name     sex   age  sibsp  \\\n",
              "0       1         1  Allen, Miss. Elisabeth Walton  female  29.0      0   \n",
              "\n",
              "   parch ticket      fare cabin embarked boat  body     home.dest  \n",
              "0      0  24160  211.3375    B5        S    2   NaN  St Louis, MO  "
            ],
            "text/html": [
              "\n",
              "  <div id=\"df-988f38b1-55b2-410d-aa7a-495c4a12a966\">\n",
              "    <div class=\"colab-df-container\">\n",
              "      <div>\n",
              "<style scoped>\n",
              "    .dataframe tbody tr th:only-of-type {\n",
              "        vertical-align: middle;\n",
              "    }\n",
              "\n",
              "    .dataframe tbody tr th {\n",
              "        vertical-align: top;\n",
              "    }\n",
              "\n",
              "    .dataframe thead th {\n",
              "        text-align: right;\n",
              "    }\n",
              "</style>\n",
              "<table border=\"1\" class=\"dataframe\">\n",
              "  <thead>\n",
              "    <tr style=\"text-align: right;\">\n",
              "      <th></th>\n",
              "      <th>pclass</th>\n",
              "      <th>survived</th>\n",
              "      <th>name</th>\n",
              "      <th>sex</th>\n",
              "      <th>age</th>\n",
              "      <th>sibsp</th>\n",
              "      <th>parch</th>\n",
              "      <th>ticket</th>\n",
              "      <th>fare</th>\n",
              "      <th>cabin</th>\n",
              "      <th>embarked</th>\n",
              "      <th>boat</th>\n",
              "      <th>body</th>\n",
              "      <th>home.dest</th>\n",
              "    </tr>\n",
              "  </thead>\n",
              "  <tbody>\n",
              "    <tr>\n",
              "      <th>0</th>\n",
              "      <td>1</td>\n",
              "      <td>1</td>\n",
              "      <td>Allen, Miss. Elisabeth Walton</td>\n",
              "      <td>female</td>\n",
              "      <td>29.0</td>\n",
              "      <td>0</td>\n",
              "      <td>0</td>\n",
              "      <td>24160</td>\n",
              "      <td>211.3375</td>\n",
              "      <td>B5</td>\n",
              "      <td>S</td>\n",
              "      <td>2</td>\n",
              "      <td>NaN</td>\n",
              "      <td>St Louis, MO</td>\n",
              "    </tr>\n",
              "  </tbody>\n",
              "</table>\n",
              "</div>\n",
              "      <button class=\"colab-df-convert\" onclick=\"convertToInteractive('df-988f38b1-55b2-410d-aa7a-495c4a12a966')\"\n",
              "              title=\"Convert this dataframe to an interactive table.\"\n",
              "              style=\"display:none;\">\n",
              "        \n",
              "  <svg xmlns=\"http://www.w3.org/2000/svg\" height=\"24px\"viewBox=\"0 0 24 24\"\n",
              "       width=\"24px\">\n",
              "    <path d=\"M0 0h24v24H0V0z\" fill=\"none\"/>\n",
              "    <path d=\"M18.56 5.44l.94 2.06.94-2.06 2.06-.94-2.06-.94-.94-2.06-.94 2.06-2.06.94zm-11 1L8.5 8.5l.94-2.06 2.06-.94-2.06-.94L8.5 2.5l-.94 2.06-2.06.94zm10 10l.94 2.06.94-2.06 2.06-.94-2.06-.94-.94-2.06-.94 2.06-2.06.94z\"/><path d=\"M17.41 7.96l-1.37-1.37c-.4-.4-.92-.59-1.43-.59-.52 0-1.04.2-1.43.59L10.3 9.45l-7.72 7.72c-.78.78-.78 2.05 0 2.83L4 21.41c.39.39.9.59 1.41.59.51 0 1.02-.2 1.41-.59l7.78-7.78 2.81-2.81c.8-.78.8-2.07 0-2.86zM5.41 20L4 18.59l7.72-7.72 1.47 1.35L5.41 20z\"/>\n",
              "  </svg>\n",
              "      </button>\n",
              "      \n",
              "  <style>\n",
              "    .colab-df-container {\n",
              "      display:flex;\n",
              "      flex-wrap:wrap;\n",
              "      gap: 12px;\n",
              "    }\n",
              "\n",
              "    .colab-df-convert {\n",
              "      background-color: #E8F0FE;\n",
              "      border: none;\n",
              "      border-radius: 50%;\n",
              "      cursor: pointer;\n",
              "      display: none;\n",
              "      fill: #1967D2;\n",
              "      height: 32px;\n",
              "      padding: 0 0 0 0;\n",
              "      width: 32px;\n",
              "    }\n",
              "\n",
              "    .colab-df-convert:hover {\n",
              "      background-color: #E2EBFA;\n",
              "      box-shadow: 0px 1px 2px rgba(60, 64, 67, 0.3), 0px 1px 3px 1px rgba(60, 64, 67, 0.15);\n",
              "      fill: #174EA6;\n",
              "    }\n",
              "\n",
              "    [theme=dark] .colab-df-convert {\n",
              "      background-color: #3B4455;\n",
              "      fill: #D2E3FC;\n",
              "    }\n",
              "\n",
              "    [theme=dark] .colab-df-convert:hover {\n",
              "      background-color: #434B5C;\n",
              "      box-shadow: 0px 1px 3px 1px rgba(0, 0, 0, 0.15);\n",
              "      filter: drop-shadow(0px 1px 2px rgba(0, 0, 0, 0.3));\n",
              "      fill: #FFFFFF;\n",
              "    }\n",
              "  </style>\n",
              "\n",
              "      <script>\n",
              "        const buttonEl =\n",
              "          document.querySelector('#df-988f38b1-55b2-410d-aa7a-495c4a12a966 button.colab-df-convert');\n",
              "        buttonEl.style.display =\n",
              "          google.colab.kernel.accessAllowed ? 'block' : 'none';\n",
              "\n",
              "        async function convertToInteractive(key) {\n",
              "          const element = document.querySelector('#df-988f38b1-55b2-410d-aa7a-495c4a12a966');\n",
              "          const dataTable =\n",
              "            await google.colab.kernel.invokeFunction('convertToInteractive',\n",
              "                                                     [key], {});\n",
              "          if (!dataTable) return;\n",
              "\n",
              "          const docLinkHtml = 'Like what you see? Visit the ' +\n",
              "            '<a target=\"_blank\" href=https://colab.research.google.com/notebooks/data_table.ipynb>data table notebook</a>'\n",
              "            + ' to learn more about interactive tables.';\n",
              "          element.innerHTML = '';\n",
              "          dataTable['output_type'] = 'display_data';\n",
              "          await google.colab.output.renderOutput(dataTable, element);\n",
              "          const docLink = document.createElement('div');\n",
              "          docLink.innerHTML = docLinkHtml;\n",
              "          element.appendChild(docLink);\n",
              "        }\n",
              "      </script>\n",
              "    </div>\n",
              "  </div>\n",
              "  "
            ]
          },
          "metadata": {},
          "execution_count": 33
        }
      ],
      "source": [
        "df2 = pd.read_csv('titanic.csv')\n",
        "df2.head(1)"
      ]
    },
    {
      "cell_type": "markdown",
      "metadata": {
        "id": "3ff_E3hlImwM"
      },
      "source": [
        "**4. DataFrame objects have a  `.describe()` method that summarizing the data. Run it below:**"
      ]
    },
    {
      "cell_type": "code",
      "execution_count": 34,
      "metadata": {
        "id": "yk365pTXRVUL",
        "outputId": "45599cb1-c0fb-47c4-db50-6a6c5793144e",
        "colab": {
          "base_uri": "https://localhost:8080/",
          "height": 297
        }
      },
      "outputs": [
        {
          "output_type": "execute_result",
          "data": {
            "text/plain": [
              "            pclass     survived          age        sibsp        parch  \\\n",
              "count  1309.000000  1309.000000  1046.000000  1309.000000  1309.000000   \n",
              "mean      2.294882     0.381971    29.881135     0.498854     0.385027   \n",
              "std       0.837836     0.486055    14.413500     1.041658     0.865560   \n",
              "min       1.000000     0.000000     0.166700     0.000000     0.000000   \n",
              "25%       2.000000     0.000000    21.000000     0.000000     0.000000   \n",
              "50%       3.000000     0.000000    28.000000     0.000000     0.000000   \n",
              "75%       3.000000     1.000000    39.000000     1.000000     0.000000   \n",
              "max       3.000000     1.000000    80.000000     8.000000     9.000000   \n",
              "\n",
              "              fare        body  \n",
              "count  1308.000000  121.000000  \n",
              "mean     33.295479  160.809917  \n",
              "std      51.758668   97.696922  \n",
              "min       0.000000    1.000000  \n",
              "25%       7.895800   72.000000  \n",
              "50%      14.454200  155.000000  \n",
              "75%      31.275000  256.000000  \n",
              "max     512.329200  328.000000  "
            ],
            "text/html": [
              "\n",
              "  <div id=\"df-f14ef0a3-16ab-4698-b50e-b4df5416231e\">\n",
              "    <div class=\"colab-df-container\">\n",
              "      <div>\n",
              "<style scoped>\n",
              "    .dataframe tbody tr th:only-of-type {\n",
              "        vertical-align: middle;\n",
              "    }\n",
              "\n",
              "    .dataframe tbody tr th {\n",
              "        vertical-align: top;\n",
              "    }\n",
              "\n",
              "    .dataframe thead th {\n",
              "        text-align: right;\n",
              "    }\n",
              "</style>\n",
              "<table border=\"1\" class=\"dataframe\">\n",
              "  <thead>\n",
              "    <tr style=\"text-align: right;\">\n",
              "      <th></th>\n",
              "      <th>pclass</th>\n",
              "      <th>survived</th>\n",
              "      <th>age</th>\n",
              "      <th>sibsp</th>\n",
              "      <th>parch</th>\n",
              "      <th>fare</th>\n",
              "      <th>body</th>\n",
              "    </tr>\n",
              "  </thead>\n",
              "  <tbody>\n",
              "    <tr>\n",
              "      <th>count</th>\n",
              "      <td>1309.000000</td>\n",
              "      <td>1309.000000</td>\n",
              "      <td>1046.000000</td>\n",
              "      <td>1309.000000</td>\n",
              "      <td>1309.000000</td>\n",
              "      <td>1308.000000</td>\n",
              "      <td>121.000000</td>\n",
              "    </tr>\n",
              "    <tr>\n",
              "      <th>mean</th>\n",
              "      <td>2.294882</td>\n",
              "      <td>0.381971</td>\n",
              "      <td>29.881135</td>\n",
              "      <td>0.498854</td>\n",
              "      <td>0.385027</td>\n",
              "      <td>33.295479</td>\n",
              "      <td>160.809917</td>\n",
              "    </tr>\n",
              "    <tr>\n",
              "      <th>std</th>\n",
              "      <td>0.837836</td>\n",
              "      <td>0.486055</td>\n",
              "      <td>14.413500</td>\n",
              "      <td>1.041658</td>\n",
              "      <td>0.865560</td>\n",
              "      <td>51.758668</td>\n",
              "      <td>97.696922</td>\n",
              "    </tr>\n",
              "    <tr>\n",
              "      <th>min</th>\n",
              "      <td>1.000000</td>\n",
              "      <td>0.000000</td>\n",
              "      <td>0.166700</td>\n",
              "      <td>0.000000</td>\n",
              "      <td>0.000000</td>\n",
              "      <td>0.000000</td>\n",
              "      <td>1.000000</td>\n",
              "    </tr>\n",
              "    <tr>\n",
              "      <th>25%</th>\n",
              "      <td>2.000000</td>\n",
              "      <td>0.000000</td>\n",
              "      <td>21.000000</td>\n",
              "      <td>0.000000</td>\n",
              "      <td>0.000000</td>\n",
              "      <td>7.895800</td>\n",
              "      <td>72.000000</td>\n",
              "    </tr>\n",
              "    <tr>\n",
              "      <th>50%</th>\n",
              "      <td>3.000000</td>\n",
              "      <td>0.000000</td>\n",
              "      <td>28.000000</td>\n",
              "      <td>0.000000</td>\n",
              "      <td>0.000000</td>\n",
              "      <td>14.454200</td>\n",
              "      <td>155.000000</td>\n",
              "    </tr>\n",
              "    <tr>\n",
              "      <th>75%</th>\n",
              "      <td>3.000000</td>\n",
              "      <td>1.000000</td>\n",
              "      <td>39.000000</td>\n",
              "      <td>1.000000</td>\n",
              "      <td>0.000000</td>\n",
              "      <td>31.275000</td>\n",
              "      <td>256.000000</td>\n",
              "    </tr>\n",
              "    <tr>\n",
              "      <th>max</th>\n",
              "      <td>3.000000</td>\n",
              "      <td>1.000000</td>\n",
              "      <td>80.000000</td>\n",
              "      <td>8.000000</td>\n",
              "      <td>9.000000</td>\n",
              "      <td>512.329200</td>\n",
              "      <td>328.000000</td>\n",
              "    </tr>\n",
              "  </tbody>\n",
              "</table>\n",
              "</div>\n",
              "      <button class=\"colab-df-convert\" onclick=\"convertToInteractive('df-f14ef0a3-16ab-4698-b50e-b4df5416231e')\"\n",
              "              title=\"Convert this dataframe to an interactive table.\"\n",
              "              style=\"display:none;\">\n",
              "        \n",
              "  <svg xmlns=\"http://www.w3.org/2000/svg\" height=\"24px\"viewBox=\"0 0 24 24\"\n",
              "       width=\"24px\">\n",
              "    <path d=\"M0 0h24v24H0V0z\" fill=\"none\"/>\n",
              "    <path d=\"M18.56 5.44l.94 2.06.94-2.06 2.06-.94-2.06-.94-.94-2.06-.94 2.06-2.06.94zm-11 1L8.5 8.5l.94-2.06 2.06-.94-2.06-.94L8.5 2.5l-.94 2.06-2.06.94zm10 10l.94 2.06.94-2.06 2.06-.94-2.06-.94-.94-2.06-.94 2.06-2.06.94z\"/><path d=\"M17.41 7.96l-1.37-1.37c-.4-.4-.92-.59-1.43-.59-.52 0-1.04.2-1.43.59L10.3 9.45l-7.72 7.72c-.78.78-.78 2.05 0 2.83L4 21.41c.39.39.9.59 1.41.59.51 0 1.02-.2 1.41-.59l7.78-7.78 2.81-2.81c.8-.78.8-2.07 0-2.86zM5.41 20L4 18.59l7.72-7.72 1.47 1.35L5.41 20z\"/>\n",
              "  </svg>\n",
              "      </button>\n",
              "      \n",
              "  <style>\n",
              "    .colab-df-container {\n",
              "      display:flex;\n",
              "      flex-wrap:wrap;\n",
              "      gap: 12px;\n",
              "    }\n",
              "\n",
              "    .colab-df-convert {\n",
              "      background-color: #E8F0FE;\n",
              "      border: none;\n",
              "      border-radius: 50%;\n",
              "      cursor: pointer;\n",
              "      display: none;\n",
              "      fill: #1967D2;\n",
              "      height: 32px;\n",
              "      padding: 0 0 0 0;\n",
              "      width: 32px;\n",
              "    }\n",
              "\n",
              "    .colab-df-convert:hover {\n",
              "      background-color: #E2EBFA;\n",
              "      box-shadow: 0px 1px 2px rgba(60, 64, 67, 0.3), 0px 1px 3px 1px rgba(60, 64, 67, 0.15);\n",
              "      fill: #174EA6;\n",
              "    }\n",
              "\n",
              "    [theme=dark] .colab-df-convert {\n",
              "      background-color: #3B4455;\n",
              "      fill: #D2E3FC;\n",
              "    }\n",
              "\n",
              "    [theme=dark] .colab-df-convert:hover {\n",
              "      background-color: #434B5C;\n",
              "      box-shadow: 0px 1px 3px 1px rgba(0, 0, 0, 0.15);\n",
              "      filter: drop-shadow(0px 1px 2px rgba(0, 0, 0, 0.3));\n",
              "      fill: #FFFFFF;\n",
              "    }\n",
              "  </style>\n",
              "\n",
              "      <script>\n",
              "        const buttonEl =\n",
              "          document.querySelector('#df-f14ef0a3-16ab-4698-b50e-b4df5416231e button.colab-df-convert');\n",
              "        buttonEl.style.display =\n",
              "          google.colab.kernel.accessAllowed ? 'block' : 'none';\n",
              "\n",
              "        async function convertToInteractive(key) {\n",
              "          const element = document.querySelector('#df-f14ef0a3-16ab-4698-b50e-b4df5416231e');\n",
              "          const dataTable =\n",
              "            await google.colab.kernel.invokeFunction('convertToInteractive',\n",
              "                                                     [key], {});\n",
              "          if (!dataTable) return;\n",
              "\n",
              "          const docLinkHtml = 'Like what you see? Visit the ' +\n",
              "            '<a target=\"_blank\" href=https://colab.research.google.com/notebooks/data_table.ipynb>data table notebook</a>'\n",
              "            + ' to learn more about interactive tables.';\n",
              "          element.innerHTML = '';\n",
              "          dataTable['output_type'] = 'display_data';\n",
              "          await google.colab.output.renderOutput(dataTable, element);\n",
              "          const docLink = document.createElement('div');\n",
              "          docLink.innerHTML = docLinkHtml;\n",
              "          element.appendChild(docLink);\n",
              "        }\n",
              "      </script>\n",
              "    </div>\n",
              "  </div>\n",
              "  "
            ]
          },
          "metadata": {},
          "execution_count": 34
        }
      ],
      "source": [
        "df2.describe()"
      ]
    },
    {
      "cell_type": "markdown",
      "metadata": {
        "id": "f4rLBeYcRb8F"
      },
      "source": [
        "Expected output:\n",
        "\n",
        "\n",
        "|       |      pclass |    survived |       age |       sibsp |       parch |      fare |     body |\n",
        "|:------|------------:|------------:|----------:|------------:|------------:|----------:|---------:|\n",
        "| count | 1309        | 1309        | 1046      | 1309        | 1309        | 1308      | 121      |\n",
        "| mean  |    2.29488  |    0.381971 |   29.8811 |    0.498854 |    0.385027 |   33.2955 | 160.81   |\n",
        "| std   |    0.837836 |    0.486055 |   14.4135 |    1.04166  |    0.86556  |   51.7587 |  97.6969 |\n",
        "| min   |    1        |    0        |    0.1667 |    0        |    0        |    0      |   1      |\n",
        "| 25%   |    2        |    0        |   21      |    0        |    0        |    7.8958 |  72      |\n",
        "| 50%   |    3        |    0        |   28      |    0        |    0        |   14.4542 | 155      |\n",
        "| 75%   |    3        |    1        |   39      |    1        |    0        |   31.275  | 256      |\n",
        "| max   |    3        |    1        |   80      |    8        |    9        |  512.329  | 328      |\n"
      ]
    },
    {
      "cell_type": "markdown",
      "metadata": {
        "id": "wv9ZRCspIXVZ"
      },
      "source": [
        "5. By looking at the output and reading the [method documentation](https://pandas.pydata.org/docs/reference/api/pandas.DataFrame.describe.html) answer the following questions:\n",
        "\n",
        "**5a. What fraction of passengers survived (rounded to two decimal places)?**"
      ]
    },
    {
      "cell_type": "markdown",
      "source": [
        "0.38"
      ],
      "metadata": {
        "id": "I0RVJkWQYuI_"
      }
    },
    {
      "cell_type": "markdown",
      "metadata": {
        "id": "neqZ4JDSR4D3"
      },
      "source": [
        "**5b. What was the median fare (rounded to the nearest dollar)?**"
      ]
    },
    {
      "cell_type": "markdown",
      "source": [
        "14.00"
      ],
      "metadata": {
        "id": "7KQEzeEYXObc"
      }
    },
    {
      "cell_type": "markdown",
      "source": [],
      "metadata": {
        "id": "1vIunpNgWIlP"
      }
    },
    {
      "cell_type": "markdown",
      "metadata": {
        "id": "XKzkw6CMSRIN"
      },
      "source": [
        "**5c. Were there more 1st class passengers or 3rd class passengers?**"
      ]
    },
    {
      "cell_type": "markdown",
      "metadata": {
        "id": "pPBLYwyeSd_9"
      },
      "source": [
        "3rd"
      ]
    },
    {
      "cell_type": "markdown",
      "metadata": {
        "id": "0qLzN7CdSl57"
      },
      "source": [
        "**To submit:**\n",
        "\n",
        "1. File->Download .ipynb\n",
        "2. Upload the .ipynb file to the appropriate assignment in [Canvas](https://tulane.instructure.com/)"
      ]
    }
  ],
  "metadata": {
    "colab": {
      "collapsed_sections": [],
      "name": "Lab01.ipynb",
      "provenance": []
    },
    "kernelspec": {
      "display_name": "Python 3.8.3 64-bit",
      "language": "python",
      "name": "python3"
    },
    "language_info": {
      "name": "python",
      "version": "3.8.3"
    },
    "vscode": {
      "interpreter": {
        "hash": "aee8b7b246df8f9039afb4144a1f6fd8d2ca17a180786b69acc140d282b71a49"
      }
    }
  },
  "nbformat": 4,
  "nbformat_minor": 0
}